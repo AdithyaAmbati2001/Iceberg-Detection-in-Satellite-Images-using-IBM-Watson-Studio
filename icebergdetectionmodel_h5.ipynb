{
  "nbformat": 4,
  "nbformat_minor": 0,
  "metadata": {
    "colab": {
      "name": "icebergdetectionmodel.h5",
      "provenance": [],
      "mount_file_id": "1HawIBMwbqDIfg7xPTN8ScbKbL3b1uE4q",
      "authorship_tag": "ABX9TyM5WjuAyZDFsezbxr/1fxXj",
      "include_colab_link": true
    },
    "kernelspec": {
      "name": "python3",
      "display_name": "Python 3"
    }
  },
  "cells": [
    {
      "cell_type": "markdown",
      "metadata": {
        "id": "view-in-github",
        "colab_type": "text"
      },
      "source": [
        "<a href=\"https://colab.research.google.com/github/AdithyaAmbati2001/Iceberg-Detection-using-Satellite-Images/blob/main/icebergdetectionmodel_h5.ipynb\" target=\"_parent\"><img src=\"https://colab.research.google.com/assets/colab-badge.svg\" alt=\"Open In Colab\"/></a>"
      ]
    },
    {
      "cell_type": "code",
      "metadata": {
        "id": "V6kGdEx4AApA"
      },
      "source": [
        "from keras.preprocessing.image import ImageDataGenerator\r\n",
        "train_datagen = ImageDataGenerator(rescale = 1./255,shear_range = 0.2,zoom_range = 0.2,horizontal_flip = True)\r\n",
        "test_datagen = ImageDataGenerator(rescale = 1./255)"
      ],
      "execution_count": 1,
      "outputs": []
    },
    {
      "cell_type": "code",
      "metadata": {
        "colab": {
          "base_uri": "https://localhost:8080/"
        },
        "id": "4LQisi8_BQ2n",
        "outputId": "e7a0941a-b182-462f-8fb8-fb232e9f6c26"
      },
      "source": [
        "x_train = train_datagen.flow_from_directory(\"/content/drive/MyDrive/Iceberg Detection -Project Files (1)/Iceberg Detection/dataset/train\",target_size=(75,75),batch_size= 32, class_mode='binary')\r\n",
        "x_test = test_datagen.flow_from_directory(\"/content/drive/MyDrive/Iceberg Detection -Project Files (1)/Iceberg Detection/dataset/test\",target_size=(75,75),batch_size= 32, class_mode='binary')"
      ],
      "execution_count": 11,
      "outputs": [
        {
          "output_type": "stream",
          "text": [
            "Found 1284 images belonging to 2 classes.\n",
            "Found 320 images belonging to 2 classes.\n"
          ],
          "name": "stdout"
        }
      ]
    },
    {
      "cell_type": "code",
      "metadata": {
        "id": "vRvsWZL1BpoC"
      },
      "source": [
        "from keras.models import Sequential\r\n",
        "from keras.layers import Conv2D, MaxPooling2D, Dense, Dropout, Flatten"
      ],
      "execution_count": 12,
      "outputs": []
    },
    {
      "cell_type": "code",
      "metadata": {
        "id": "-eu7JR3TB0M1"
      },
      "source": [
        "model = Sequential()"
      ],
      "execution_count": 13,
      "outputs": []
    },
    {
      "cell_type": "code",
      "metadata": {
        "id": "9hExq0h3B4rx"
      },
      "source": [
        "model.add(Conv2D(64,(3,3), activation='relu', input_shape=(75,75,3)))"
      ],
      "execution_count": 14,
      "outputs": []
    },
    {
      "cell_type": "code",
      "metadata": {
        "id": "Bt8z11tJB-K_"
      },
      "source": [
        "model.add(MaxPooling2D(pool_size=(3,3), strides=(2,2)))"
      ],
      "execution_count": 15,
      "outputs": []
    },
    {
      "cell_type": "code",
      "metadata": {
        "id": "bpGL9cOYCEE-"
      },
      "source": [
        "model.add(Flatten())"
      ],
      "execution_count": 16,
      "outputs": []
    },
    {
      "cell_type": "code",
      "metadata": {
        "id": "KJWgWwg4CKSj"
      },
      "source": [
        "model.add(Dense(units= 512, kernel_initializer=\"uniform\", activation=\"relu\"))\r\n",
        "model.add(Dense(units = 256, kernel_initializer=\"uniform\", activation=\"relu\"))\r\n",
        "model.add(Dense(units = 1, kernel_initializer=\"uniform\", activation=\"sigmoid\"))"
      ],
      "execution_count": 17,
      "outputs": []
    },
    {
      "cell_type": "code",
      "metadata": {
        "id": "NH0SCtEKCOnn"
      },
      "source": [
        "model.compile(optimizer='adam', loss='binary_crossentropy', metrics=['accuracy'])"
      ],
      "execution_count": 18,
      "outputs": []
    },
    {
      "cell_type": "code",
      "metadata": {
        "colab": {
          "base_uri": "https://localhost:8080/"
        },
        "id": "PEpH3FtaCThk",
        "outputId": "c554ffac-1f53-4044-a49e-ee53a2501039"
      },
      "source": [
        "model.fit_generator(x_train,steps_per_epoch=40, epochs= 10, validation_data=x_test, validation_steps=10)"
      ],
      "execution_count": 19,
      "outputs": [
        {
          "output_type": "stream",
          "text": [
            "/usr/local/lib/python3.7/dist-packages/tensorflow/python/keras/engine/training.py:1844: UserWarning: `Model.fit_generator` is deprecated and will be removed in a future version. Please use `Model.fit`, which supports generators.\n",
            "  warnings.warn('`Model.fit_generator` is deprecated and '\n"
          ],
          "name": "stderr"
        },
        {
          "output_type": "stream",
          "text": [
            "Epoch 1/10\n",
            "40/40 [==============================] - 417s 11s/step - loss: 0.9302 - accuracy: 0.5179 - val_loss: 0.6826 - val_accuracy: 0.5000\n",
            "Epoch 2/10\n",
            "40/40 [==============================] - 27s 667ms/step - loss: 0.6875 - accuracy: 0.5532 - val_loss: 0.6515 - val_accuracy: 0.7344\n",
            "Epoch 3/10\n",
            "40/40 [==============================] - 26s 659ms/step - loss: 0.6585 - accuracy: 0.6285 - val_loss: 0.6103 - val_accuracy: 0.7156\n",
            "Epoch 4/10\n",
            "40/40 [==============================] - 26s 657ms/step - loss: 0.6200 - accuracy: 0.6613 - val_loss: 0.5267 - val_accuracy: 0.7250\n",
            "Epoch 5/10\n",
            "40/40 [==============================] - 27s 675ms/step - loss: 0.6004 - accuracy: 0.6273 - val_loss: 0.5016 - val_accuracy: 0.7344\n",
            "Epoch 6/10\n",
            "40/40 [==============================] - 27s 662ms/step - loss: 0.6157 - accuracy: 0.6499 - val_loss: 0.6636 - val_accuracy: 0.7063\n",
            "Epoch 7/10\n",
            "40/40 [==============================] - 26s 650ms/step - loss: 0.6151 - accuracy: 0.6557 - val_loss: 0.5057 - val_accuracy: 0.7469\n",
            "Epoch 8/10\n",
            "40/40 [==============================] - 26s 659ms/step - loss: 0.5121 - accuracy: 0.7475 - val_loss: 0.5317 - val_accuracy: 0.7000\n",
            "Epoch 9/10\n",
            "40/40 [==============================] - 26s 650ms/step - loss: 0.4915 - accuracy: 0.7571 - val_loss: 0.4059 - val_accuracy: 0.8406\n",
            "Epoch 10/10\n",
            "40/40 [==============================] - 27s 686ms/step - loss: 0.4272 - accuracy: 0.7943 - val_loss: 0.4202 - val_accuracy: 0.8125\n"
          ],
          "name": "stdout"
        },
        {
          "output_type": "execute_result",
          "data": {
            "text/plain": [
              "<tensorflow.python.keras.callbacks.History at 0x7f80b1720990>"
            ]
          },
          "metadata": {
            "tags": []
          },
          "execution_count": 19
        }
      ]
    },
    {
      "cell_type": "code",
      "metadata": {
        "colab": {
          "base_uri": "https://localhost:8080/"
        },
        "id": "DzKFvU9MFSdw",
        "outputId": "f72e9699-cb91-4f1b-e544-80ac724f9129"
      },
      "source": [
        "x_train.class_indices"
      ],
      "execution_count": 20,
      "outputs": [
        {
          "output_type": "execute_result",
          "data": {
            "text/plain": [
              "{'Iceberg': 0, 'Ship': 1}"
            ]
          },
          "metadata": {
            "tags": []
          },
          "execution_count": 20
        }
      ]
    },
    {
      "cell_type": "code",
      "metadata": {
        "id": "XDGbusUsFY1B"
      },
      "source": [
        "model.save(\"/content/drive/MyDrive/Colab Notebooks/icebergdetectionmodel.h5\")"
      ],
      "execution_count": 21,
      "outputs": []
    }
  ]
}