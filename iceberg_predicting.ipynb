{
  "nbformat": 4,
  "nbformat_minor": 0,
  "metadata": {
    "colab": {
      "name": "iceberg_predicting",
      "provenance": [],
      "mount_file_id": "1RWNaQq4sF3RTNQlyCvEhCbYmHmEG1c-e",
      "authorship_tag": "ABX9TyPXsdmGkGh2n3ViSVYRbcWo",
      "include_colab_link": true
    },
    "kernelspec": {
      "name": "python3",
      "display_name": "Python 3"
    }
  },
  "cells": [
    {
      "cell_type": "markdown",
      "metadata": {
        "id": "view-in-github",
        "colab_type": "text"
      },
      "source": [
        "<a href=\"https://colab.research.google.com/github/AdithyaAmbati2001/Iceberg-Detection-using-Satellite-Images/blob/main/iceberg_predicting.ipynb\" target=\"_parent\"><img src=\"https://colab.research.google.com/assets/colab-badge.svg\" alt=\"Open In Colab\"/></a>"
      ]
    },
    {
      "cell_type": "code",
      "metadata": {
        "id": "L_aVoYa1oJxw"
      },
      "source": [
        "from keras.models import load_model\r\n",
        "from keras.preprocessing import image\r\n",
        "import cv2\r\n",
        "import numpy as np\r\n"
      ],
      "execution_count": 6,
      "outputs": []
    },
    {
      "cell_type": "code",
      "metadata": {
        "id": "nGV2wKad7NeE"
      },
      "source": [
        "model = load_model(\"/content/drive/MyDrive/Colab Notebooks/icebergdetectionmodel.h5\")"
      ],
      "execution_count": 7,
      "outputs": []
    },
    {
      "cell_type": "code",
      "metadata": {
        "id": "p4jQcqnYt1bB"
      },
      "source": [
        "from skimage.transform import resize"
      ],
      "execution_count": 8,
      "outputs": []
    },
    {
      "cell_type": "code",
      "metadata": {
        "id": "nmileRVaVXlj"
      },
      "source": [
        "def detect(frame):\r\n",
        "  img = resize(frame,(75,75))\r\n",
        "  img = np.expand_dims(img, axis=0)\r\n",
        "  if np.max(img)>1:\r\n",
        "    img = img/255.0\r\n",
        "  prediction = model.predict(img)\r\n",
        "  print(prediction)\r\n",
        "  class_pred = model.predict_classes(img)\r\n",
        "  print(class_pred)\r\n",
        "  if class_pred[0]==0:\r\n",
        "    print(\"Iceberg\")\r\n",
        "  else:\r\n",
        "    print(\"Ship\")"
      ],
      "execution_count": 9,
      "outputs": []
    },
    {
      "cell_type": "code",
      "metadata": {
        "colab": {
          "base_uri": "https://localhost:8080/"
        },
        "id": "qbzNxgSSWdKo",
        "outputId": "af10acf5-9e17-4ed0-c110-1af49d4967fb"
      },
      "source": [
        "frame = cv2.imread(\"/content/drive/MyDrive/Iceberg Detection -Project Files (1)/Iceberg Detection/dataset/test/Ship/f357.png\")\r\n",
        "detect(frame)"
      ],
      "execution_count": 10,
      "outputs": [
        {
          "output_type": "stream",
          "text": [
            "[[0.61057913]]\n",
            "[[1]]\n",
            "Ship\n"
          ],
          "name": "stdout"
        },
        {
          "output_type": "stream",
          "text": [
            "/usr/local/lib/python3.7/dist-packages/tensorflow/python/keras/engine/sequential.py:450: UserWarning: `model.predict_classes()` is deprecated and will be removed after 2021-01-01. Please use instead:* `np.argmax(model.predict(x), axis=-1)`,   if your model does multi-class classification   (e.g. if it uses a `softmax` last-layer activation).* `(model.predict(x) > 0.5).astype(\"int32\")`,   if your model does binary classification   (e.g. if it uses a `sigmoid` last-layer activation).\n",
            "  warnings.warn('`model.predict_classes()` is deprecated and '\n"
          ],
          "name": "stderr"
        }
      ]
    }
  ]
}